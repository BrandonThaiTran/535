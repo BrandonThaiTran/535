{
 "cells": [
  {
   "cell_type": "markdown",
   "metadata": {},
   "source": [
    "# Homework 1"
   ]
  },
  {
   "cell_type": "code",
   "execution_count": 1,
   "metadata": {},
   "outputs": [],
   "source": [
    "import pandas as pd\n",
    "from sklearn.metrics import cohen_kappa_score\n",
    "from itertools import combinations \n",
    "from statsmodels.stats.inter_rater import fleiss_kappa\n",
    "import numpy as np\n",
    "import statistics\n",
    "import random\n",
    "%config Completer.use_jedi = False"
   ]
  },
  {
   "cell_type": "code",
   "execution_count": 2,
   "metadata": {},
   "outputs": [
    {
     "data": {
      "text/plain": [
       "<bound method NDFrame.head of                     id  annotator_1  annotator_2  annotator_3  majority_vote\n",
       "0     03bSnISJMiM_0001            1            1            1              1\n",
       "1     03bSnISJMiM_0002            0            0            0              0\n",
       "2     03bSnISJMiM_0003            0            0           -1              0\n",
       "3     03bSnISJMiM_0004           -1            0           -1             -1\n",
       "4     03bSnISJMiM_0005            0            0            0              0\n",
       "...                ...          ...          ...          ...            ...\n",
       "2194  zhpQhgha_KU_0031            0            0            0              0\n",
       "2195  zhpQhgha_KU_0032            0            0            0              0\n",
       "2196  zhpQhgha_KU_0033            0            0            0              0\n",
       "2197  zhpQhgha_KU_0034            0            1            0              0\n",
       "2198  zhpQhgha_KU_0035            0            0            0              0\n",
       "\n",
       "[2199 rows x 5 columns]>"
      ]
     },
     "execution_count": 2,
     "metadata": {},
     "output_type": "execute_result"
    }
   ],
   "source": [
    "df = pd.read_csv('../../data/Sentiment_Annotation_2021.csv')\n",
    "df.head"
   ]
  },
  {
   "cell_type": "code",
   "execution_count": 3,
   "metadata": {},
   "outputs": [],
   "source": [
    "# Turn to numpy arrays\n",
    "df_array = df.values\n",
    "majority_votes = df_array[:,4].astype(int)\n",
    "ratings = df_array[:,1:4].astype(int)\n",
    "ids = df_array[:,0]\n",
    "n_cat = 3\n",
    "n_sub = len(ids)\n",
    "n_rat = 3"
   ]
  },
  {
   "cell_type": "markdown",
   "metadata": {},
   "source": [
    "## Question 1"
   ]
  },
  {
   "cell_type": "code",
   "execution_count": 4,
   "metadata": {},
   "outputs": [
    {
     "name": "stdout",
     "output_type": "stream",
     "text": [
      "Fleiss Kappa: 0.6503114154533796\n"
     ]
    }
   ],
   "source": [
    "# fill the fleiss matrix\n",
    "fleiss_matrix = np.zeros([n_sub,n_cat])\n",
    "for i in range(n_sub):\n",
    "    for j in range(n_rat):\n",
    "        fleiss_matrix[i][ratings[i][j] + 1] += 1\n",
    "\n",
    "f_kappa = fleiss_kappa(fleiss_matrix)\n",
    "print(f'Fleiss Kappa: {f_kappa}')"
   ]
  },
  {
   "cell_type": "markdown",
   "metadata": {},
   "source": [
    "Based on our Fleiss Kappa value and Table 1, we have substantial agreement. "
   ]
  },
  {
   "cell_type": "markdown",
   "metadata": {},
   "source": [
    "## Question 2"
   ]
  },
  {
   "cell_type": "code",
   "execution_count": 5,
   "metadata": {},
   "outputs": [
    {
     "name": "stdout",
     "output_type": "stream",
     "text": [
      "Cohen Kappa for Annotator 1 and Annotator 2: 0.678474847354384\n",
      "Cohen Kappa for Annotator 1 and Annotator 3: 0.6915786425927507\n",
      "Cohen Kappa for Annotator 2 and Annotator 3: 0.5808911741284637\n",
      "\n",
      "Cohen Kappa for Annotator 1 and the majority vote: 0.8945509304299228\n",
      "Cohen Kappa for Annotator 2 and the majority vote: 0.7841894954762489\n",
      "Cohen Kappa for Annotator 3 and the majority vote: 0.7979960274129306\n"
     ]
    }
   ],
   "source": [
    "cohen_kappas = []\n",
    "combs = combinations(range(ratings.shape[1]), 2) \n",
    "\n",
    "# run cohens kappa on each set of combinations C\n",
    "for comb in combs:\n",
    "    cohen_kappa =cohen_kappa_score(ratings[:,comb[0]],ratings[:,comb[1]])\n",
    "    print(f'Cohen Kappa for Annotator {comb[0]+1} and Annotator {comb[1]+1}: {cohen_kappa}')\n",
    "\n",
    "print()\n",
    "\n",
    "# run cohens kappa on each annotator with the majority vote\n",
    "for i in range(ratings.shape[1]):\n",
    "    cohen_kappa =cohen_kappa_score(ratings[:,i],majority_votes)\n",
    "    print(f'Cohen Kappa for Annotator {i + 1} and the majority vote: {cohen_kappa}')\n",
    "    cohen_kappas.append(cohen_kappa)"
   ]
  },
  {
   "cell_type": "markdown",
   "metadata": {},
   "source": [
    "The rank of the annotators is 1, 3, then 2."
   ]
  },
  {
   "cell_type": "markdown",
   "metadata": {},
   "source": [
    "## Question 3"
   ]
  },
  {
   "cell_type": "code",
   "execution_count": 6,
   "metadata": {},
   "outputs": [],
   "source": [
    "# Find new weighted majority\n",
    "w_majority_votes = []\n",
    "pot = 0\n",
    "for i in range(n_sub):\n",
    "    rat1 = ratings[i][0]\n",
    "    rat2 = ratings[i][1]\n",
    "    rat3 = ratings[i][2]\n",
    "    # If there is a tie in the weighted majority, choose randomly between rating 1 and the other rating\n",
    "    if rat2 == rat3 and rat1 != rat2:\n",
    "        w_majority_votes.append(random.choice([rat1, rat2]).astype(int))\n",
    "        pot+=1\n",
    "    else:\n",
    "        w_majority_votes.append(statistics.mode([rat1, rat1, rat2, rat3]).astype(int))"
   ]
  },
  {
   "cell_type": "code",
   "execution_count": 7,
   "metadata": {},
   "outputs": [
    {
     "name": "stdout",
     "output_type": "stream",
     "text": [
      "There were 75 changes made\n"
     ]
    }
   ],
   "source": [
    "print(f'There were {(w_majority_votes != majority_votes).sum()} changes made')"
   ]
  },
  {
   "cell_type": "code",
   "execution_count": 8,
   "metadata": {},
   "outputs": [],
   "source": [
    "# write to csv\n",
    "np.savetxt('WeightedMajorityVote.csv',w_majority_votes,fmt='%i')"
   ]
  },
  {
   "cell_type": "markdown",
   "metadata": {},
   "source": [
    "When there are ties in the weighted vote, I randomly choose between rating 1 and the other possible rating (i.e. rating 2 and rating 3). This is to balance the expertise of rater 1 and the actual majority of the voters."
   ]
  }
 ],
 "metadata": {
  "kernelspec": {
   "display_name": "Python 3.7.6 64-bit ('base': conda)",
   "language": "python",
   "name": "python37664bitbasecondaa91be724da0048ecbc3b0f160275e5b4"
  },
  "language_info": {
   "codemirror_mode": {
    "name": "ipython",
    "version": 3
   },
   "file_extension": ".py",
   "mimetype": "text/x-python",
   "name": "python",
   "nbconvert_exporter": "python",
   "pygments_lexer": "ipython3",
   "version": "3.7.6"
  }
 },
 "nbformat": 4,
 "nbformat_minor": 4
}
